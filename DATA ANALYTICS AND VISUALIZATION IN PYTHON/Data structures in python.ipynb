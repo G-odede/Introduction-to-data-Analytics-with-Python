{
 "cells": [
  {
   "cell_type": "markdown",
   "id": "e249f731-8f31-4e8a-a21c-082965d34c81",
   "metadata": {},
   "source": [
    "🧩 Data Analytics and Visualization\n",
    "# Data Structures in Python: Lists, Tuples, Dictionaries, DataFrames\n"
   ]
  },
  {
   "cell_type": "markdown",
   "id": "b00b0966-1d6c-437a-a307-6982bc461e47",
   "metadata": {},
   "source": [
    "##🛒 2.1 Lists\n",
    "Lists are like a well-organized shopping cart: you can add items, remove them, and check what's inside. They keep your data in an ordered, mutable collection.\n",
    "\n",
    "Real-World Example: Imagine a shopping cart that you can modify as you shop.\n",
    "\n",
    "Creating and Accessing Lists"
   ]
  },
  {
   "cell_type": "code",
   "execution_count": 1,
   "id": "77a5966d-b656-4805-af4a-7cc426b210b8",
   "metadata": {},
   "outputs": [
    {
     "data": {
      "text/plain": [
       "['Milk', 'Bread', 'Eggs']"
      ]
     },
     "execution_count": 1,
     "metadata": {},
     "output_type": "execute_result"
    }
   ],
   "source": [
    "# Creating a shopping cart\n",
    "shopping_cart = [\"Milk\", \"Bread\", \"Eggs\"]\n",
    "shopping_cart\n"
   ]
  },
  {
   "cell_type": "code",
   "execution_count": 3,
   "id": "575464c7-be94-41e8-9772-adaa602a6920",
   "metadata": {},
   "outputs": [
    {
     "name": "stdout",
     "output_type": "stream",
     "text": [
      "Milk\n"
     ]
    }
   ],
   "source": [
    "# Accessing the first item in the cart\n",
    "print(shopping_cart[0])  # Output: Milk"
   ]
  },
  {
   "cell_type": "markdown",
   "id": "46a031d9-1013-419c-a856-24534c793913",
   "metadata": {},
   "source": [
    "#List Operations\n"
   ]
  },
  {
   "cell_type": "code",
   "execution_count": 9,
   "id": "e10dccf0-73b0-40ea-94fc-3d17cfec87d2",
   "metadata": {},
   "outputs": [
    {
     "name": "stdout",
     "output_type": "stream",
     "text": [
      "['Milk', 'Bread', 'Eggs', 'Butter']\n"
     ]
    }
   ],
   "source": [
    "\n",
    "# Adding a new item to the cart\n",
    "#append():add new item in a list\n",
    "shopping_cart.append(\"Butter\")\n",
    "print(shopping_cart)  # Output: ['Milk', 'Bread', 'Eggs', 'Butter']"
   ]
  },
  {
   "cell_type": "code",
   "execution_count": 17,
   "id": "2043ceb3-f7cc-459c-993f-5188550bc431",
   "metadata": {},
   "outputs": [
    {
     "name": "stdout",
     "output_type": "stream",
     "text": [
      "['Milk', 'Orange Juice', 'Bread', 'Eggs', 'Butter', 'Cheese', 'Yogurt', 'Cheese', 'Yogurt', 'Cheese', 'Yogurt']\n"
     ]
    }
   ],
   "source": [
    "\n",
    "#extend(): When you buy multiple items at once.\n",
    "# Adding multiple items to the cart\n",
    "shopping_cart.extend([\"Cheese\", \"Yogurt\"])\n",
    "print(shopping_cart)  # Output: ['Milk', 'Bread', 'Eggs', 'Butter', 'Cheese', 'Yogurt']\n"
   ]
  },
  {
   "cell_type": "code",
   "execution_count": 13,
   "id": "6f32e746-ce29-426e-9243-266b926bd28d",
   "metadata": {},
   "outputs": [
    {
     "name": "stdout",
     "output_type": "stream",
     "text": [
      "['Milk', 'Orange Juice', 'Bread', 'Eggs', 'Butter', 'Cheese', 'Yogurt']\n"
     ]
    }
   ],
   "source": [
    "#insert(): Placing an item at a specific spot in your cart.\n",
    "# Inserting an item at the second position\n",
    "shopping_cart.insert(1, \"Orange Juice\")\n",
    "print(shopping_cart)  # Output: ['Milk', 'Orange Juice', 'Bread', 'Eggs', 'Butter', 'Cheese', 'Yogurt']\n"
   ]
  },
  {
   "cell_type": "code",
   "execution_count": 19,
   "id": "40d86839-8e0d-4952-aaac-89e2d508fce5",
   "metadata": {},
   "outputs": [
    {
     "name": "stdout",
     "output_type": "stream",
     "text": [
      "['Milk', 'Orange Juice', 'Bread', 'Butter', 'Cheese', 'Yogurt', 'Cheese', 'Yogurt', 'Cheese', 'Yogurt']\n"
     ]
    }
   ],
   "source": [
    "#remove(): When you decide to remove an item from your cart.\n",
    "\n",
    "# Removing an item from the cart\n",
    "shopping_cart.remove(\"Eggs\")\n",
    "print(shopping_cart)  # Output: ['Milk', 'Orange Juice', 'Bread', 'Butter', 'Cheese', 'Yogurt']\n"
   ]
  },
  {
   "cell_type": "code",
   "execution_count": 21,
   "id": "7bec9d4b-1711-46d4-aafc-b8db6c820bb0",
   "metadata": {},
   "outputs": [
    {
     "name": "stdout",
     "output_type": "stream",
     "text": [
      "Yogurt\n",
      "['Milk', 'Orange Juice', 'Bread', 'Butter', 'Cheese', 'Yogurt', 'Cheese', 'Yogurt', 'Cheese']\n"
     ]
    }
   ],
   "source": [
    "#pop(): Checking out the last item in your cart.\n",
    "# Removing the last item from the cart\n",
    "last_item = shopping_cart.pop()\n",
    "print(last_item)  # Output: Yogurt\n",
    "print(shopping_cart)  # Output: ['Milk', 'Orange Juice', 'Bread', 'Butter', 'Cheese']\n"
   ]
  },
  {
   "cell_type": "code",
   "execution_count": 23,
   "id": "6acb064c-d77a-4653-9d0d-9ede292ea7b9",
   "metadata": {},
   "outputs": [
    {
     "name": "stdout",
     "output_type": "stream",
     "text": [
      "['Cheese', 'Yogurt', 'Cheese', 'Yogurt', 'Cheese', 'Butter', 'Bread', 'Orange Juice', 'Milk']\n"
     ]
    }
   ],
   "source": [
    "#reverse(): Flipping your cart upside down!\n",
    "# Reversing the order of items\n",
    "shopping_cart.reverse()\n",
    "print(shopping_cart)  # Output: ['Cheese', 'Butter', 'Bread', 'Orange Juice', 'Milk']\n"
   ]
  },
  {
   "cell_type": "code",
   "execution_count": 27,
   "id": "9986b2cd-deae-4076-9a6b-b47fffb5b6b5",
   "metadata": {},
   "outputs": [
    {
     "name": "stdout",
     "output_type": "stream",
     "text": [
      "9\n"
     ]
    }
   ],
   "source": [
    "#len(): Counting how many items are left.\n",
    "\n",
    "# Counting the number of items\n",
    "num_items = len(shopping_cart)\n",
    "print(num_items)  # Output: 9"
   ]
  },
  {
   "cell_type": "code",
   "execution_count": 29,
   "id": "87a20091-ef6c-4863-9e3a-c7cc61803f26",
   "metadata": {},
   "outputs": [
    {
     "name": "stdout",
     "output_type": "stream",
     "text": [
      "Bread\n",
      "Yogurt\n",
      "[6, 6, 6, 6, 6, 6, 5, 12, 4]\n"
     ]
    }
   ],
   "source": [
    "\n",
    "\n",
    "#min(): Finding the smallest item (alphabetically).\n",
    "# Finding the smallest item alphabetically\n",
    "smallest_item = min(shopping_cart)\n",
    "print(smallest_item)  # Output: Bread\n",
    "\n",
    "#max(): Finding the largest item (alphabetically).\n",
    "# Finding the largest item alphabetically\n",
    "largest_item = max(shopping_cart)\n",
    "print(largest_item)  # Output: Orange Juice\n",
    "\n",
    "#List Comprehensions\n",
    "# Creating a list of the lengths of item names\n",
    "item_lengths = [len(item) for item in shopping_cart]\n",
    "print(item_lengths)  # Output: [6, 6, 5, 12, 4]"
   ]
  },
  {
   "cell_type": "markdown",
   "id": "0779cca9-0368-4e92-9069-1d8259f71879",
   "metadata": {},
   "source": [
    "#🌐 2.2 Tuples\n",
    "Tuples are like a fixed set of coordinates on a map—once set, they don’t change. They are immutable, which means once you create them, they stay that way.\n",
    "\n",
    "Real-World Example: A tuple representing the coordinates of a treasure location.\n",
    "\n",
    "Creating and Accessing Tuples"
   ]
  },
  {
   "cell_type": "code",
   "execution_count": 31,
   "id": "8dee2f8a-8420-45ec-9a17-4da28b4f4247",
   "metadata": {},
   "outputs": [
    {
     "name": "stdout",
     "output_type": "stream",
     "text": [
      "40.7128\n"
     ]
    }
   ],
   "source": [
    "\n",
    "# Creating a tuple with treasure coordinates\n",
    "treasure_location = (40.7128, -74.0060)\n",
    "\n",
    "# Accessing the latitude\n",
    "print(treasure_location[0])  # Output: 40.7128\n",
    "\n",
    "# Tuples are immutable\n",
    "# treasure_location[0] = 41.0000  # This will raise a TypeError\n"
   ]
  },
  {
   "cell_type": "markdown",
   "id": "541ba5ec-91e7-4bce-b5b7-3cb894809d4b",
   "metadata": {},
   "source": [
    "🗂️ 2.3 Dictionaries\n",
    "Dictionaries are like a well-organized address book—each entry has a unique key (like a name) and a value (like a phone number).\n",
    "\n",
    "Real-World Example: A dictionary storing a contact’s information.\n",
    "\n",
    "Creating and Accessing Dictionaries\n",
    "\n"
   ]
  },
  {
   "cell_type": "code",
   "execution_count": 43,
   "id": "ea472735-e19b-4e47-aef0-82d656098097",
   "metadata": {},
   "outputs": [
    {
     "data": {
      "text/plain": [
       "{'Name': 'John Doe', 'Phone': '123-456-7890', 'Email': 'john.doe@example.com'}"
      ]
     },
     "execution_count": 43,
     "metadata": {},
     "output_type": "execute_result"
    }
   ],
   "source": [
    "\n",
    "# Creating a contact dictionary\n",
    "contact_info = {\n",
    "    \"Name\": \"John Doe\",\n",
    "    \"Phone\": \"123-456-7890\",\n",
    "    \"Email\": \"john.doe@example.com\"\n",
    "}\n",
    "\n",
    "# Accessing the contact dictionary\n",
    "print(contact_info)"
   ]
  },
  {
   "cell_type": "code",
   "execution_count": 33,
   "id": "e4d91ee2-0814-4f56-87ad-fb54b69ecbe2",
   "metadata": {},
   "outputs": [
    {
     "name": "stdout",
     "output_type": "stream",
     "text": [
      "123-456-7890\n"
     ]
    }
   ],
   "source": [
    "\n",
    "# Creating a contact dictionary\n",
    "contact_info = {\n",
    "    \"Name\": \"John Doe\",\n",
    "    \"Phone\": \"123-456-7890\",\n",
    "    \"Email\": \"john.doe@example.com\"\n",
    "}\n",
    "\n",
    "# Accessing the phone number\n",
    "print(contact_info[\"Phone\"])  # Output: 123-456-7890\n"
   ]
  },
  {
   "cell_type": "code",
   "execution_count": 35,
   "id": "489a6cb7-4387-4004-b90d-363a039ef4c9",
   "metadata": {},
   "outputs": [
    {
     "name": "stdout",
     "output_type": "stream",
     "text": [
      "{'Name': 'John Doe', 'Phone': '098-765-4321', 'Email': 'john.doe@example.com', 'Address': '456 Elm St'}\n"
     ]
    }
   ],
   "source": [
    "#Dictionary Operations\n",
    "# Updating and adding details\n",
    "contact_info[\"Phone\"] = \"098-765-4321\"  # Update the phone number\n",
    "contact_info[\"Address\"] = \"456 Elm St\"  # Add a new key-value pair\n",
    "print(contact_info)  # Output: {'Name': 'John Doe', 'Phone': '098-765-4321', 'Email': 'john.doe@example.com', 'Address': '456 Elm St'}\n"
   ]
  },
  {
   "cell_type": "code",
   "execution_count": 37,
   "id": "d1cc97c6-200a-4774-b9c4-30ffd8fa9a2a",
   "metadata": {},
   "outputs": [
    {
     "name": "stdout",
     "output_type": "stream",
     "text": [
      "{'Name': 'John Doe', 'Phone': '098-765-4321', 'Email': 'john.doe@example.com'}\n"
     ]
    }
   ],
   "source": [
    "# Removing a detail\n",
    "del contact_info[\"Address\"]\n",
    "print(contact_info)  # Output: {'Name': 'John Doe', 'Phone': '098-765-4321', 'Email': 'john.doe@example.com'}\n"
   ]
  },
  {
   "cell_type": "code",
   "execution_count": 39,
   "id": "47ebe054-6f05-4d31-8f89-af47e5938317",
   "metadata": {},
   "outputs": [
    {
     "name": "stdout",
     "output_type": "stream",
     "text": [
      "Name: John Doe\n",
      "Phone: 098-765-4321\n",
      "Email: john.doe@example.com\n"
     ]
    }
   ],
   "source": [
    "# Iterating through the dictionary\n",
    "for key, value in contact_info.items():\n",
    "    print(f\"{key}: {value}\")\n",
    "\n",
    "# Output:\n",
    "# Name: John Doe\n",
    "# Phone: 098-765-4321\n",
    "# Email: john.doe@example.com"
   ]
  },
  {
   "cell_type": "code",
   "execution_count": 47,
   "id": "b04572f4-4240-4cc0-8e77-76ee3ef66004",
   "metadata": {},
   "outputs": [],
   "source": [
    "import pandas as pd"
   ]
  },
  {
   "cell_type": "code",
   "execution_count": 53,
   "id": "821ba501-470e-4697-8b39-301105301381",
   "metadata": {},
   "outputs": [
    {
     "data": {
      "text/html": [
       "<div>\n",
       "<style scoped>\n",
       "    .dataframe tbody tr th:only-of-type {\n",
       "        vertical-align: middle;\n",
       "    }\n",
       "\n",
       "    .dataframe tbody tr th {\n",
       "        vertical-align: top;\n",
       "    }\n",
       "\n",
       "    .dataframe thead th {\n",
       "        text-align: right;\n",
       "    }\n",
       "</style>\n",
       "<table border=\"1\" class=\"dataframe\">\n",
       "  <thead>\n",
       "    <tr style=\"text-align: right;\">\n",
       "      <th></th>\n",
       "      <th>Date</th>\n",
       "      <th>Exercise</th>\n",
       "      <th>Minutes</th>\n",
       "    </tr>\n",
       "  </thead>\n",
       "  <tbody>\n",
       "    <tr>\n",
       "      <th>0</th>\n",
       "      <td>2024-01-01</td>\n",
       "      <td>Running</td>\n",
       "      <td>30</td>\n",
       "    </tr>\n",
       "    <tr>\n",
       "      <th>1</th>\n",
       "      <td>2024-01-02</td>\n",
       "      <td>Cycling</td>\n",
       "      <td>45</td>\n",
       "    </tr>\n",
       "    <tr>\n",
       "      <th>2</th>\n",
       "      <td>2024-01-03</td>\n",
       "      <td>Swimming</td>\n",
       "      <td>60</td>\n",
       "    </tr>\n",
       "  </tbody>\n",
       "</table>\n",
       "</div>"
      ],
      "text/plain": [
       "         Date  Exercise  Minutes\n",
       "0  2024-01-01   Running       30\n",
       "1  2024-01-02   Cycling       45\n",
       "2  2024-01-03  Swimming       60"
      ]
     },
     "execution_count": 53,
     "metadata": {},
     "output_type": "execute_result"
    }
   ],
   "source": [
    "\n",
    "##📊 2.4 DataFrames\n",
    "#DataFrames are like spreadsheets in Python, perfect for organizing and analyzing tabular data.\n",
    "\n",
    "#Real-World Example: A DataFrame representing your personal fitness tracker’s log.\n",
    "\n",
    "\n",
    "# Importing the Pandas library\n",
    "import pandas as pd\n",
    "#Creating DataFrames from Lists and Dictionaries\n",
    "\n",
    "# Creating a DataFrame from a fitness log\n",
    "fitness_log = pd.DataFrame({\n",
    "    \"Date\": [\"2024-01-01\", \"2024-01-02\", \"2024-01-03\"],\n",
    "    \"Exercise\": [\"Running\", \"Cycling\", \"Swimming\"],\n",
    "    \"Minutes\": [30, 45, 60]\n",
    "})\n",
    "fitness_log"
   ]
  },
  {
   "cell_type": "code",
   "execution_count": 55,
   "id": "ef7c13e7-6862-4e00-ae17-85a00c07a2e2",
   "metadata": {},
   "outputs": [
    {
     "data": {
      "text/plain": [
       "0     Running\n",
       "1     Cycling\n",
       "2    Swimming\n",
       "Name: Exercise, dtype: object"
      ]
     },
     "execution_count": 55,
     "metadata": {},
     "output_type": "execute_result"
    }
   ],
   "source": [
    "#Accessing and Modifying Data in a DataFrame\n",
    "# Accessing the exercise column\n",
    "fitness_log[\"Exercise\"]  # Output: 0 Running 1 Cycling 2 Swimming Name: Exercise, dtype: object\n"
   ]
  },
  {
   "cell_type": "code",
   "execution_count": 59,
   "id": "810514b8-98af-4d74-8e28-fcc43500901e",
   "metadata": {},
   "outputs": [
    {
     "data": {
      "text/html": [
       "<div>\n",
       "<style scoped>\n",
       "    .dataframe tbody tr th:only-of-type {\n",
       "        vertical-align: middle;\n",
       "    }\n",
       "\n",
       "    .dataframe tbody tr th {\n",
       "        vertical-align: top;\n",
       "    }\n",
       "\n",
       "    .dataframe thead th {\n",
       "        text-align: right;\n",
       "    }\n",
       "</style>\n",
       "<table border=\"1\" class=\"dataframe\">\n",
       "  <thead>\n",
       "    <tr style=\"text-align: right;\">\n",
       "      <th></th>\n",
       "      <th>Date</th>\n",
       "      <th>Exercise</th>\n",
       "      <th>Minutes</th>\n",
       "      <th>Calories</th>\n",
       "    </tr>\n",
       "  </thead>\n",
       "  <tbody>\n",
       "    <tr>\n",
       "      <th>0</th>\n",
       "      <td>2024-01-01</td>\n",
       "      <td>Running</td>\n",
       "      <td>30</td>\n",
       "      <td>300</td>\n",
       "    </tr>\n",
       "    <tr>\n",
       "      <th>1</th>\n",
       "      <td>2024-01-02</td>\n",
       "      <td>Cycling</td>\n",
       "      <td>45</td>\n",
       "      <td>400</td>\n",
       "    </tr>\n",
       "    <tr>\n",
       "      <th>2</th>\n",
       "      <td>2024-01-03</td>\n",
       "      <td>Swimming</td>\n",
       "      <td>60</td>\n",
       "      <td>500</td>\n",
       "    </tr>\n",
       "  </tbody>\n",
       "</table>\n",
       "</div>"
      ],
      "text/plain": [
       "         Date  Exercise  Minutes  Calories\n",
       "0  2024-01-01   Running       30       300\n",
       "1  2024-01-02   Cycling       45       400\n",
       "2  2024-01-03  Swimming       60       500"
      ]
     },
     "execution_count": 59,
     "metadata": {},
     "output_type": "execute_result"
    }
   ],
   "source": [
    "\n",
    "# Adding a new column with calories burned\n",
    "fitness_log[\"Calories\"] = [300, 400, 500]\n",
    "fitness_log\n",
    "\n",
    "# Output:\n",
    "#          Date  Exercise  Minutes  Calories\n",
    "# 0 2024-01-01   Running       30       300\n",
    "# 1 2024-01-02   Cycling       45       400\n",
    "# 2 2024-01-03  Swimming       60       500"
   ]
  },
  {
   "cell_type": "markdown",
   "id": "46ff363f-47df-4772-8a32-c15372e5b1a7",
   "metadata": {},
   "source": [
    "##❓ 2.5 Practice Questions\n",
    "Question 1: Create a DataFrame student_scores with scores in Math, Science, and English. Perform these tasks:\n",
    "\n",
    "Calculate the average score for each student and add it as a new column named \"Average\".\n",
    "Find the student(s) with the highest average score.\n",
    "Sort the DataFrame based on the average score in descending order."
   ]
  },
  {
   "cell_type": "code",
   "execution_count": 81,
   "id": "f3c8aae8-c0d6-473f-8cf6-2fc78662f5d9",
   "metadata": {},
   "outputs": [
    {
     "data": {
      "text/html": [
       "<div>\n",
       "<style scoped>\n",
       "    .dataframe tbody tr th:only-of-type {\n",
       "        vertical-align: middle;\n",
       "    }\n",
       "\n",
       "    .dataframe tbody tr th {\n",
       "        vertical-align: top;\n",
       "    }\n",
       "\n",
       "    .dataframe thead th {\n",
       "        text-align: right;\n",
       "    }\n",
       "</style>\n",
       "<table border=\"1\" class=\"dataframe\">\n",
       "  <thead>\n",
       "    <tr style=\"text-align: right;\">\n",
       "      <th></th>\n",
       "      <th>Students</th>\n",
       "      <th>Math</th>\n",
       "      <th>Science</th>\n",
       "      <th>English</th>\n",
       "    </tr>\n",
       "  </thead>\n",
       "  <tbody>\n",
       "    <tr>\n",
       "      <th>0</th>\n",
       "      <td>Malisa</td>\n",
       "      <td>70</td>\n",
       "      <td>30</td>\n",
       "      <td>50</td>\n",
       "    </tr>\n",
       "    <tr>\n",
       "      <th>1</th>\n",
       "      <td>Akoth</td>\n",
       "      <td>80</td>\n",
       "      <td>50</td>\n",
       "      <td>40</td>\n",
       "    </tr>\n",
       "    <tr>\n",
       "      <th>2</th>\n",
       "      <td>Awino</td>\n",
       "      <td>10</td>\n",
       "      <td>60</td>\n",
       "      <td>10</td>\n",
       "    </tr>\n",
       "  </tbody>\n",
       "</table>\n",
       "</div>"
      ],
      "text/plain": [
       "  Students  Math  Science  English\n",
       "0   Malisa    70       30       50\n",
       "1    Akoth    80       50       40\n",
       "2    Awino    10       60       10"
      ]
     },
     "execution_count": 81,
     "metadata": {},
     "output_type": "execute_result"
    }
   ],
   "source": [
    "\n",
    "# Creating a DataFrame with student scores\n",
    "student_scores=pd.DataFrame({\n",
    "    'Students':['Malisa','Akoth','Awino'],\n",
    "    'Math':[70,80,10],\n",
    "    'Science':[30,50,60],\n",
    "    'English':[50,40,10]\n",
    "})\n",
    "student_scores"
   ]
  },
  {
   "cell_type": "code",
   "execution_count": 91,
   "id": "fd91d913-126f-4046-b56b-7dc43182d6f1",
   "metadata": {},
   "outputs": [
    {
     "data": {
      "text/html": [
       "<div>\n",
       "<style scoped>\n",
       "    .dataframe tbody tr th:only-of-type {\n",
       "        vertical-align: middle;\n",
       "    }\n",
       "\n",
       "    .dataframe tbody tr th {\n",
       "        vertical-align: top;\n",
       "    }\n",
       "\n",
       "    .dataframe thead th {\n",
       "        text-align: right;\n",
       "    }\n",
       "</style>\n",
       "<table border=\"1\" class=\"dataframe\">\n",
       "  <thead>\n",
       "    <tr style=\"text-align: right;\">\n",
       "      <th></th>\n",
       "      <th>Students</th>\n",
       "      <th>Math</th>\n",
       "      <th>Science</th>\n",
       "      <th>English</th>\n",
       "      <th>Average</th>\n",
       "    </tr>\n",
       "  </thead>\n",
       "  <tbody>\n",
       "    <tr>\n",
       "      <th>0</th>\n",
       "      <td>Malisa</td>\n",
       "      <td>70</td>\n",
       "      <td>30</td>\n",
       "      <td>50</td>\n",
       "      <td>50.000000</td>\n",
       "    </tr>\n",
       "    <tr>\n",
       "      <th>1</th>\n",
       "      <td>Akoth</td>\n",
       "      <td>80</td>\n",
       "      <td>50</td>\n",
       "      <td>40</td>\n",
       "      <td>56.666667</td>\n",
       "    </tr>\n",
       "    <tr>\n",
       "      <th>2</th>\n",
       "      <td>Awino</td>\n",
       "      <td>10</td>\n",
       "      <td>60</td>\n",
       "      <td>10</td>\n",
       "      <td>26.666667</td>\n",
       "    </tr>\n",
       "  </tbody>\n",
       "</table>\n",
       "</div>"
      ],
      "text/plain": [
       "  Students  Math  Science  English    Average\n",
       "0   Malisa    70       30       50  50.000000\n",
       "1    Akoth    80       50       40  56.666667\n",
       "2    Awino    10       60       10  26.666667"
      ]
     },
     "execution_count": 91,
     "metadata": {},
     "output_type": "execute_result"
    }
   ],
   "source": [
    "\n",
    "# Calculating the average score\n",
    "student_scores[\"Average\"] = student_scores[[\"Math\", \"Science\", \"English\"]].mean(axis=1)\n",
    "student_scores"
   ]
  },
  {
   "cell_type": "code",
   "execution_count": 95,
   "id": "de3168a2-b25f-4731-9667-7adaf2efd3a0",
   "metadata": {},
   "outputs": [
    {
     "data": {
      "text/plain": [
       "Students        Akoth\n",
       "Math               80\n",
       "Science            50\n",
       "English            40\n",
       "Average     56.666667\n",
       "Name: 1, dtype: object"
      ]
     },
     "execution_count": 95,
     "metadata": {},
     "output_type": "execute_result"
    }
   ],
   "source": [
    "# Finding the student with the highest average score\n",
    "top_student = student_scores.loc[student_scores[\"Average\"].idxmax()]\n",
    "top_student"
   ]
  },
  {
   "cell_type": "code",
   "execution_count": 97,
   "id": "069399f1-d04b-4329-9af7-8e2f400f4eb7",
   "metadata": {},
   "outputs": [
    {
     "name": "stdout",
     "output_type": "stream",
     "text": [
      "Top Student:\n",
      " Students        Akoth\n",
      "Math               80\n",
      "Science            50\n",
      "English            40\n",
      "Average     56.666667\n",
      "Name: 1, dtype: object\n",
      "\n",
      "Sorted Scores:\n",
      "   Students  Math  Science  English    Average\n",
      "1    Akoth    80       50       40  56.666667\n",
      "0   Malisa    70       30       50  50.000000\n",
      "2    Awino    10       60       10  26.666667\n"
     ]
    }
   ],
   "source": [
    "# Sorting the DataFrame by average score\n",
    "sorted_scores = student_scores.sort_values(by=\"Average\", ascending=False)\n",
    "\n",
    "print(\"Top Student:\\n\", top_student)\n",
    "print(\"\\nSorted Scores:\\n\", sorted_scores)"
   ]
  },
  {
   "cell_type": "code",
   "execution_count": 99,
   "id": "4e3eaca8-c35a-4686-8a3e-58cf37cd700d",
   "metadata": {},
   "outputs": [
    {
     "name": "stdout",
     "output_type": "stream",
     "text": [
      "[32.0, 68.0, 98.6, 212.0]\n"
     ]
    }
   ],
   "source": [
    "\n",
    "#Question 2: Convert a list of temperatures from Celsius to Fahrenheit using list comprehension.\n",
    "# List of temperatures in Celsius\n",
    "celsius_temperatures = [0, 20, 37, 100]\n",
    "\n",
    "# Convert to Fahrenheit\n",
    "fahrenheit_temperatures = [(temp * 9/5) + 32 for temp in celsius_temperatures]\n",
    "print(fahrenheit_temperatures)  # Output: [32.0, 68.0, 98.6, 212.\n"
   ]
  },
  {
   "cell_type": "code",
   "execution_count": null,
   "id": "9e90d36c-021f-443b-9153-b40d299cdfad",
   "metadata": {},
   "outputs": [],
   "source": []
  }
 ],
 "metadata": {
  "kernelspec": {
   "display_name": "Python 3 (ipykernel)",
   "language": "python",
   "name": "python3"
  },
  "language_info": {
   "codemirror_mode": {
    "name": "ipython",
    "version": 3
   },
   "file_extension": ".py",
   "mimetype": "text/x-python",
   "name": "python",
   "nbconvert_exporter": "python",
   "pygments_lexer": "ipython3",
   "version": "3.12.4"
  }
 },
 "nbformat": 4,
 "nbformat_minor": 5
}
