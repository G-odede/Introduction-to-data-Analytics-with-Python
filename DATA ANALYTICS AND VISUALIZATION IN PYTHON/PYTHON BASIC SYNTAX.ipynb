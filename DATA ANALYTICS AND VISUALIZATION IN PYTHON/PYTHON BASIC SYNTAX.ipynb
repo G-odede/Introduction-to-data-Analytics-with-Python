{
 "cells": [
  {
   "cell_type": "markdown",
   "id": "be4ad21f-cab7-48b6-9f56-64bf7d061943",
   "metadata": {},
   "source": [
    "1.2 Basic Syntax\n",
    "#1.2.1 Python Syntax and Code Structure\n"
   ]
  },
  {
   "cell_type": "code",
   "execution_count": 1,
   "id": "1f1c797b-331e-4dd9-acda-120484fa4357",
   "metadata": {},
   "outputs": [
    {
     "name": "stdout",
     "output_type": "stream",
     "text": [
      "Hello, World!\n"
     ]
    }
   ],
   "source": [
    "##Indentation\n",
    "#Python uses indentation to define code blocks. Consistent indentation is crucial.\n",
    "if True:\n",
    "    print(\"Hello, World!\")  # Indented block of code"
   ]
  },
  {
   "cell_type": "code",
   "execution_count": 5,
   "id": "fd73ae16-fd39-43b5-ae7d-865a3c40f580",
   "metadata": {},
   "outputs": [
    {
     "data": {
      "text/plain": [
       "'\\nThis is a\\nmulti-line comment\\n'"
      ]
     },
     "execution_count": 5,
     "metadata": {},
     "output_type": "execute_result"
    }
   ],
   "source": [
    "##Comments\n",
    "# for single-line comments and triple quotes (''' or \"\"\") for multi-line comments.\n",
    "# This is a single-line comment\n",
    "\"\"\"\n",
    "This is a\n",
    "multi-line comment\n",
    "\"\"\""
   ]
  },
  {
   "cell_type": "markdown",
   "id": "064003db-ecaf-4444-8d23-87b2662af621",
   "metadata": {},
   "source": [
    "#1.2.2 Variables and Data Types\n",
    "##Variables\n",
    "Variables store data values and are created when first assigned a value. They are dynamically typed.\n"
   ]
  },
  {
   "cell_type": "code",
   "execution_count": 7,
   "id": "549310cc-7e51-4ec7-b5fc-a72dc8d1dcc4",
   "metadata": {},
   "outputs": [],
   "source": [
    "x = 10  # integer\n",
    "y = 20.5  # float\n",
    "name = \"Alice\"  # string\n",
    "is_active = True  # boolean"
   ]
  },
  {
   "cell_type": "code",
   "execution_count": 11,
   "id": "b743c11f-645b-49ff-b392-0c1b3ef682c7",
   "metadata": {},
   "outputs": [],
   "source": [
    "#Multiple Assignments\n",
    "x = y = z = 1\n",
    "x, y, z = 1, 2.39, 'cat'"
   ]
  },
  {
   "cell_type": "markdown",
   "id": "995f4153-50b4-47bc-97cd-3ad1122ef106",
   "metadata": {},
   "source": [
    "##Data Types\n",
    "Integers (int): Whole numbers without decimals.\n",
    "Floats (float): Numbers with decimals.\n",
    "Strings (str): Sequence of characters.\n",
    "Booleans (bool): Represents True or False.\n",
    "\n",
    "1.2.3 Error Types\n",
    "Syntax Errors: Incorrect syntax detected before code execution.\n",
    "Runtime Errors (Exceptions): Errors that occur during execution, like division by zero.\n",
    "Logical Errors: Code runs but produces incorrect results due to flawed logic."
   ]
  },
  {
   "cell_type": "markdown",
   "id": "7e759bf8-da5c-47c0-b22f-1bfe9c8e0e99",
   "metadata": {},
   "source": [
    "#1.3 Basic Operations"
   ]
  },
  {
   "cell_type": "code",
   "execution_count": 29,
   "id": "458850d2-94ff-4ed4-9d18-06790f162d8b",
   "metadata": {},
   "outputs": [],
   "source": [
    "##1.3.1 Assignment Operator\n",
    "#Assign values to variables with =."
   ]
  },
  {
   "cell_type": "code",
   "execution_count": 31,
   "id": "973861f9-81d9-4dde-8910-d6821c19f510",
   "metadata": {},
   "outputs": [
    {
     "name": "stdout",
     "output_type": "stream",
     "text": [
      "13\n",
      "7\n",
      "30\n",
      "3.3333333333333335\n",
      "1\n",
      "1000\n",
      "3\n"
     ]
    }
   ],
   "source": [
    "##1.3.2 Arithmetic Operations\n",
    "a = 10\n",
    "b = 3        \n",
    "print(a + b)  # Addition: 13\n",
    "print(a - b)  # Subtraction: 7\n",
    "print(a * b)  # Multiplication: 30\n",
    "print(a / b)  # Division: 3.3333\n",
    "print(a % b)  # Modulus: 1\n",
    "print(a ** b) # Exponentiation: 1000\n",
    "print(a // b) # Floor division: 3\n"
   ]
  },
  {
   "cell_type": "code",
   "execution_count": 35,
   "id": "5fe68c6c-8dd2-4728-9256-caeebb61e2da",
   "metadata": {},
   "outputs": [
    {
     "name": "stdout",
     "output_type": "stream",
     "text": [
      "True\n",
      "True\n",
      "True\n"
     ]
    }
   ],
   "source": [
    "##1.3.3 Logical Operators\n",
    "print(5 > 3 and 10 < 15)  # True\n",
    "print(5 > 3 or 10 > 15)   # True\n",
    "print(not 5 > 10)         # TRUE"
   ]
  },
  {
   "cell_type": "code",
   "execution_count": 39,
   "id": "516c68ff-0fcc-4d54-96f2-5290f30650b1",
   "metadata": {},
   "outputs": [
    {
     "name": "stdout",
     "output_type": "stream",
     "text": [
      "True\n",
      "False\n",
      "True\n",
      "True\n",
      "True\n",
      "True\n"
     ]
    }
   ],
   "source": [
    "\n",
    "\n",
    "##1.3.4 Comparison Operators\n",
    "print(5 > 3)   # True\n",
    "print(5 < 3)   # False\n",
    "print(5 >= 5)  # True\n",
    "print(5 <= 5)  # True\n",
    "print(5 != 3)  # True\n",
    "print(5 == 5)  # True"
   ]
  },
  {
   "cell_type": "code",
   "execution_count": 41,
   "id": "3c633201-777a-4c5d-98a9-1b3dfe0f854e",
   "metadata": {},
   "outputs": [
    {
     "name": "stdout",
     "output_type": "stream",
     "text": [
      "True\n",
      "False\n",
      "True\n"
     ]
    }
   ],
   "source": [
    "##1.3.5 Identity Operators\n",
    "x = [1, 2, 3]\n",
    "y = x\n",
    "print(x is y)       # True\n",
    "print(x is not y)   # False\n",
    "\n",
    "y = [1, 2, 3]\n",
    "print(x is not y)   # True"
   ]
  },
  {
   "cell_type": "code",
   "execution_count": 43,
   "id": "ad7b1a89-afbb-4157-8c6d-588f326bda7d",
   "metadata": {},
   "outputs": [
    {
     "name": "stdout",
     "output_type": "stream",
     "text": [
      "True\n",
      "True\n"
     ]
    }
   ],
   "source": [
    "\n",
    "##1.3.6 Membership Operators\n",
    "fruits = [\"apple\", \"banana\"]\n",
    "print(\"banana\" in fruits)      # True\n",
    "print(\"cherry\" not in fruits)  # True\n"
   ]
  },
  {
   "cell_type": "code",
   "execution_count": 45,
   "id": "33c5ac51-b385-4603-9f9d-2ab4e1f7e03d",
   "metadata": {},
   "outputs": [
    {
     "name": "stdout",
     "output_type": "stream",
     "text": [
      "Hello World\n",
      "HelloHelloHello\n",
      "e\n",
      "ell\n"
     ]
    }
   ],
   "source": [
    "##1.3.7 String Operations\n",
    "s = \"Hello\"\n",
    "print(s + \" World\")  # Concatenation: Hello World\n",
    "print(s * 3)         # Repetition: HelloHelloHello\n",
    "print(s[1])         # Indexing: e\n",
    "print(s[1:4])       # Slicing: ell"
   ]
  },
  {
   "cell_type": "code",
   "execution_count": 47,
   "id": "75d92a7f-5554-4e65-a949-69bc2ad114c1",
   "metadata": {},
   "outputs": [
    {
     "name": "stdin",
     "output_type": "stream",
     "text": [
      "Enter your name:  ODEDE\n"
     ]
    },
    {
     "name": "stdout",
     "output_type": "stream",
     "text": [
      "Hello, ODEDE\n"
     ]
    }
   ],
   "source": [
    "##1.3.8 Input and Output\n",
    "name = input(\"Enter your name: \")\n",
    "print(\"Hello, \" + name)"
   ]
  },
  {
   "cell_type": "code",
   "execution_count": 51,
   "id": "874a095d-4622-44ee-a342-4da8281367fa",
   "metadata": {},
   "outputs": [
    {
     "name": "stdout",
     "output_type": "stream",
     "text": [
      "x is greater than 5\n"
     ]
    }
   ],
   "source": [
    "#1.4 Control Structures\n",
    "##1.4.1 Conditional Statements\n",
    "x = 10\n",
    "if x > 5:\n",
    "    print(\"x is greater than 5\")\n",
    "elif x == 5:\n",
    "    print(\"x is equal to 5\")\n",
    "else:\n",
    "    print(\"x is less than 5\")\n"
   ]
  },
  {
   "cell_type": "code",
   "execution_count": 53,
   "id": "5fd15735-6bf8-4532-84de-9d435d0786b0",
   "metadata": {},
   "outputs": [
    {
     "name": "stdout",
     "output_type": "stream",
     "text": [
      "0\n",
      "1\n",
      "2\n",
      "3\n",
      "4\n",
      "h\n",
      "e\n",
      "l\n",
      "l\n",
      "o\n"
     ]
    }
   ],
   "source": [
    "\n",
    "\n",
    "\n",
    "\n",
    "##1.4.2 Loops\n",
    "#For Loop\n",
    "\n",
    "for i in range(5):\n",
    "    print(i)  # Output: 0, 1, 2, 3, 4\n",
    "\n",
    "text = \"hello\"\n",
    "for char in text:\n",
    "    print(char)"
   ]
  },
  {
   "cell_type": "code",
   "execution_count": 55,
   "id": "4c027c90-e88c-4e0f-9bbd-f5e1c1a9afb0",
   "metadata": {},
   "outputs": [
    {
     "name": "stdout",
     "output_type": "stream",
     "text": [
      "0\n",
      "1\n",
      "2\n",
      "3\n",
      "4\n",
      "h\n",
      "e\n",
      "l\n",
      "l\n",
      "o\n"
     ]
    }
   ],
   "source": [
    "##While Loop\n",
    "count = 0\n",
    "while count < 5:\n",
    "    print(count)\n",
    "    count += 1\n",
    "\n",
    "text = \"hello\"\n",
    "index = 0\n",
    "while index < len(text):\n",
    "    print(text[index])\n",
    "    index += 1\n"
   ]
  },
  {
   "cell_type": "code",
   "execution_count": 65,
   "id": "f202c8d7-6a97-4e2d-998d-ffc032eb325a",
   "metadata": {},
   "outputs": [
    {
     "name": "stdout",
     "output_type": "stream",
     "text": [
      "Your grade is: B\n"
     ]
    }
   ],
   "source": [
    "#1.5 Functions\n",
    "##1.5.1 Create Function\n",
    "def add(a, b):\n",
    "    result = a + b\n",
    "    return result\n",
    "\n",
    "def calculate_grade(score):\n",
    "    if score >= 90:\n",
    "        return \"A\"\n",
    "    elif score >= 80:\n",
    "        return \"B\"\n",
    "    elif score >= 70:\n",
    "        return \"C\"\n",
    "    elif score >= 60:\n",
    "        return \"D\"\n",
    "    else:\n",
    "        return \"F\"\n",
    "        # Example usage\n",
    "grade = calculate_grade(85)\n",
    "print(\"Your grade is:\", grade)  # Output: Your grade is:B\n",
    "    "
   ]
  },
  {
   "cell_type": "code",
   "execution_count": 67,
   "id": "5c80ad14-048e-468a-8312-bab4e6511a2d",
   "metadata": {},
   "outputs": [
    {
     "name": "stdout",
     "output_type": "stream",
     "text": [
      "5\n",
      "20\n",
      "5\n",
      "6\n",
      "<class 'str'>\n",
      "range(0, 5)\n",
      "10\n",
      "[1, 2, 3]\n"
     ]
    }
   ],
   "source": [
    "\n",
    "\n",
    "##1.5.2 Built-in Functions\n",
    "print(len(\"Hello\"))     # Length of string: 5\n",
    "print(max(10, 20, 5))  # Maximum value: 20\n",
    "print(min(10, 20, 5))  # Minimum value: 5\n",
    "print(sum([1, 2, 3]))  # Sum: 6\n",
    "print(type(\"Hello\"))   # Type: <class 'str'>\n",
    "print(range(5))        # Range object: range(0, 5)\n",
    "print(abs(-10))        # Absolute value: 10\n",
    "print(sorted([3, 1, 2]))  # Sorted list: [1, 2, 3]\n"
   ]
  },
  {
   "cell_type": "markdown",
   "id": "000bccbc-f7d7-4f56-b12c-97bb5a35cbcb",
   "metadata": {},
   "source": [
    "1.6 Questions\n",
    "Question 1\n",
    "Write a Python program that takes a student's name, age, and three subject scores as input and calculates the average score. Based on the average score, determine and print the student's grade using the grading scale provided:"
   ]
  },
  {
   "cell_type": "code",
   "execution_count": 72,
   "id": "147d022c-7702-4929-8950-79b212299835",
   "metadata": {},
   "outputs": [
    {
     "name": "stdin",
     "output_type": "stream",
     "text": [
      "Enter student's name:  Awino\n",
      "Enter student's age:  12\n",
      "Enter score for subject 1:  15\n",
      "Enter score for subject 2:  40\n",
      "Enter score for subject 3:  40\n"
     ]
    },
    {
     "name": "stdout",
     "output_type": "stream",
     "text": [
      "Student Name: Awino\n",
      "Student Age: 12\n",
      "Average Score: 31.666666666666668\n",
      "Grade: F\n"
     ]
    }
   ],
   "source": [
    "\n",
    "def calculate_grade(score):\n",
    "    if score >= 90:\n",
    "        return \"A\"\n",
    "    elif score >= 80:\n",
    "        return \"B\"\n",
    "    elif score >= 70:\n",
    "        return \"C\"\n",
    "    elif score >= 60:\n",
    "        return \"D\"\n",
    "    else:\n",
    "        return \"F\"\n",
    "\n",
    "def main():\n",
    "    name = input(\"Enter student's name: \")\n",
    "    age = int(input(\"Enter student's age: \"))\n",
    "    scores = []\n",
    "    for i in range(3):\n",
    "        subject_score = float(input(f\"Enter score for subject {i+1}: \"))\n",
    "        scores.append(subject_score)\n",
    "    average_score = sum(scores) / len(scores)\n",
    "    grade = calculate_grade(average_score)\n",
    "    print(f\"Student Name: {name}\")\n",
    "    print(f\"Student Age: {age}\")\n",
    "    print(f\"Average Score: {average_score}\")\n",
    "    print(f\"Grade: {grade}\")\n",
    "\n",
    "if __name__ == \"__main__\":\n",
    "    main()\n"
   ]
  },
  {
   "cell_type": "code",
   "execution_count": null,
   "id": "dd51351e-acc5-4bff-9e5d-ceaf001e7dc3",
   "metadata": {},
   "outputs": [],
   "source": [
    "Question 2\n",
    "Write a Python program that prompts the user to input two numbers and performs the following operations:\n",
    "\n",
    "Calculate the sum of the two numbers.\n",
    "Calculate the absolute difference between the two numbers.\n",
    "Determine if the first number is greater than, less than, or equal to the second number.\n",
    "Concatenate the two numbers as strings.\n",
    "Repeat the concatenation of the two numbers three times.\n",
    "Based on the sum of the two numbers, determine and print a message:\n",
    "If the sum is greater than 100, print \"Big sum!\"\n",
    "If the sum is between 50 and 100 (inclusive), print \"Medium sum!\"\n",
    "If the sum is less than 50, print \"Small sum!\""
   ]
  },
  {
   "cell_type": "code",
   "execution_count": 74,
   "id": "2704bc3f-4a20-49f6-9a77-2e8aa8d63fa4",
   "metadata": {},
   "outputs": [
    {
     "name": "stdin",
     "output_type": "stream",
     "text": [
      "Enter the first number:  12\n",
      "Enter the second number:  15\n"
     ]
    },
    {
     "name": "stdout",
     "output_type": "stream",
     "text": [
      "Sum: 27.0\n",
      "Absolute Difference: 3.0\n",
      "The first number is less than the second number.\n",
      "Concatenation: 12.015.0\n",
      "Repeated Concatenation: 12.015.012.015.012.015.0\n",
      "Small sum!\n"
     ]
    }
   ],
   "source": [
    "\n",
    "def main():\n",
    "    num1 = float(input(\"Enter the first number: \"))\n",
    "    num2 = float(input(\"Enter the second number: \"))\n",
    "\n",
    "    # Sum\n",
    "    total = num1 + num2\n",
    "    print(\"Sum:\", total)\n",
    "\n",
    "    # Absolute difference\n",
    "    difference = abs(num1 - num2)\n",
    "    print(\"Absolute Difference:\", difference)\n",
    "\n",
    "    # Comparison\n",
    "    if num1 > num2:\n",
    "        print(\"The first number is greater than the second number.\")\n",
    "    elif num1 < num2:\n",
    "        print(\"The first number is less than the second number.\")\n",
    "    else:\n",
    "        print(\"The first number is equal to the second number.\")\n",
    "\n",
    "    # Concatenation\n",
    "    concat = str(num1) + str(num2)\n",
    "    print(\"Concatenation:\", concat)\n",
    "\n",
    "    # Repetition\n",
    "    repeated_concat = concat * 3\n",
    "    print(\"Repeated Concatenation:\", repeated_concat)\n",
    "\n",
    "    # Message based on sum\n",
    "    if total > 100:\n",
    "        print(\"Big sum!\")\n",
    "    elif 50 <= total <= 100:\n",
    "        print(\"Medium sum!\")\n",
    "    else:\n",
    "        print(\"Small sum!\")\n",
    "\n",
    "if __name__ == \"__main__\":\n",
    "    main()\n",
    "\n",
    "\n",
    "\n",
    "\n"
   ]
  },
  {
   "cell_type": "code",
   "execution_count": null,
   "id": "6871b1de-9521-4b4d-a218-0dd206e878fe",
   "metadata": {},
   "outputs": [],
   "source": []
  }
 ],
 "metadata": {
  "kernelspec": {
   "display_name": "Python 3 (ipykernel)",
   "language": "python",
   "name": "python3"
  },
  "language_info": {
   "codemirror_mode": {
    "name": "ipython",
    "version": 3
   },
   "file_extension": ".py",
   "mimetype": "text/x-python",
   "name": "python",
   "nbconvert_exporter": "python",
   "pygments_lexer": "ipython3",
   "version": "3.12.4"
  }
 },
 "nbformat": 4,
 "nbformat_minor": 5
}
