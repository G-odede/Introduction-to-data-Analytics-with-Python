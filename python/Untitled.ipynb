{
 "cells": [
  {
   "cell_type": "code",
   "execution_count": 11,
   "id": "8cce7dfa-9e61-405e-b9fd-ad0b9efee0e2",
   "metadata": {},
   "outputs": [
    {
     "data": {
      "text/plain": [
       "('ongatiGloria', 'ongati Gloria')"
      ]
     },
     "execution_count": 11,
     "metadata": {},
     "output_type": "execute_result"
    }
   ],
   "source": [
    "#string operation \n",
    "#1 concatenation(+)\n",
    "first =\"ongati\" \n",
    "second=\"Gloria\" \n",
    "first+second,first+\" \"+second \n"
   ]
  },
  {
   "cell_type": "code",
   "execution_count": 12,
   "id": "de7c1b16-a337-4053-b2e9-99bdaf67699b",
   "metadata": {},
   "outputs": [
    {
     "data": {
      "text/plain": [
       "('ongationgationgationgationgationgati',)"
      ]
     },
     "execution_count": 12,
     "metadata": {},
     "output_type": "execute_result"
    }
   ],
   "source": [
    "#2 Repetition(*)\n",
    "first*6,\n"
   ]
  },
  {
   "cell_type": "code",
   "execution_count": 19,
   "id": "7990194a-21aa-455a-b4cd-2bd395012875",
   "metadata": {},
   "outputs": [
    {
     "data": {
      "text/plain": [
       "'G'"
      ]
     },
     "execution_count": 19,
     "metadata": {},
     "output_type": "execute_result"
    }
   ],
   "source": [
    "#3 indexing \n",
    "# used to acess letters in a string\n",
    "second = \"Gloria\"\n",
    "second[0]"
   ]
  },
  {
   "cell_type": "code",
   "execution_count": 26,
   "id": "fb0ac2ee-de0b-494e-928f-81e82d60ffaa",
   "metadata": {},
   "outputs": [
    {
     "data": {
      "text/plain": [
       "('ongati Gloria', 'ongati', 'Gloria')"
      ]
     },
     "execution_count": 26,
     "metadata": {},
     "output_type": "execute_result"
    }
   ],
   "source": [
    "fullname=first+\" \"+second #slicing ,it goes according to the numbrering from 0 \n",
    "fullname,fullname[0:6],fullname[7:13]"
   ]
  },
  {
   "cell_type": "code",
   "execution_count": 29,
   "id": "6126da6f-7c43-4254-808a-7157f8e5aa9d",
   "metadata": {},
   "outputs": [
    {
     "name": "stdin",
     "output_type": "stream",
     "text": [
      "Enter first name: ongati\n"
     ]
    }
   ],
   "source": [
    "#input:allows users to key in data\n",
    "#print:allows dispalyof data \n",
    "name = input(\"Enter first name:\")"
   ]
  },
  {
   "cell_type": "code",
   "execution_count": 28,
   "id": "fc748bbb-a291-4cb4-8fa6-2b678a024b3f",
   "metadata": {},
   "outputs": [
    {
     "name": "stdout",
     "output_type": "stream",
     "text": [
      "ongati\n"
     ]
    }
   ],
   "source": [
    "print(name)"
   ]
  },
  {
   "cell_type": "code",
   "execution_count": null,
   "id": "2dc0e1f3-aedb-44c9-9a1c-0afc79896151",
   "metadata": {},
   "outputs": [],
   "source": [
    "#control structures \n",
    "#1;loops,used to execute block of codes repetively\n",
    "   #1a; for loop"
   ]
  },
  {
   "cell_type": "code",
   "execution_count": 32,
   "id": "38914a98-91dc-45e7-bc02-1c90a7fe3314",
   "metadata": {},
   "outputs": [
    {
     "name": "stdout",
     "output_type": "stream",
     "text": [
      "0\n",
      "1\n",
      "2\n",
      "3\n",
      "4\n",
      "5\n",
      "6\n",
      "7\n",
      "8\n",
      "9\n",
      "10\n"
     ]
    }
   ],
   "source": [
    "for i in range (11):\n",
    "     print (i)\n"
   ]
  },
  {
   "cell_type": "code",
   "execution_count": 35,
   "id": "23647374-3763-4195-bbee-7c9cb5d89953",
   "metadata": {},
   "outputs": [
    {
     "name": "stdout",
     "output_type": "stream",
     "text": [
      "o\n",
      "n\n",
      "g\n",
      "a\n",
      "t\n",
      "i\n",
      " \n",
      "G\n",
      "l\n",
      "o\n",
      "r\n",
      "i\n",
      "a\n"
     ]
    }
   ],
   "source": [
    "for chr in fullname:\n",
    "    print (chr)"
   ]
  },
  {
   "cell_type": "code",
   "execution_count": 41,
   "id": "e979e300-c2a1-4f6f-8956-d50a2d059769",
   "metadata": {},
   "outputs": [
    {
     "name": "stdout",
     "output_type": "stream",
     "text": [
      "1\n",
      "2\n",
      "3\n",
      "4\n"
     ]
    }
   ],
   "source": [
    "for i in range (1,5,1):\n",
    "     print (i)\n",
    "  "
   ]
  },
  {
   "cell_type": "code",
   "execution_count": 46,
   "id": "04506b02-a57e-460a-92af-eff41445c749",
   "metadata": {},
   "outputs": [
    {
     "name": "stdout",
     "output_type": "stream",
     "text": [
      "o\n",
      "n\n",
      "g\n",
      "a\n",
      "t\n",
      "i\n"
     ]
    }
   ],
   "source": [
    "  for chr in first:\n",
    "        print (chr)"
   ]
  },
  {
   "cell_type": "code",
   "execution_count": null,
   "id": "d7f60437-974c-4a2c-8dde-4e0ece7057b8",
   "metadata": {},
   "outputs": [],
   "source": []
  }
 ],
 "metadata": {
  "kernelspec": {
   "display_name": "Python 3 (ipykernel)",
   "language": "python",
   "name": "python3"
  },
  "language_info": {
   "codemirror_mode": {
    "name": "ipython",
    "version": 3
   },
   "file_extension": ".py",
   "mimetype": "text/x-python",
   "name": "python",
   "nbconvert_exporter": "python",
   "pygments_lexer": "ipython3",
   "version": "3.12.4"
  }
 },
 "nbformat": 4,
 "nbformat_minor": 5
}
