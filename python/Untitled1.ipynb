{
 "cells": [
  {
   "cell_type": "code",
   "execution_count": null,
   "id": "97dba9d6-ac9d-4493-ab58-27ae3d5fceeb",
   "metadata": {},
   "outputs": [],
   "source": [
    "import pandas as pd\n",
    "filepath=\"DataFiles/data.xlsx\"\n",
    "df=pd.read_excel"
   ]
  }
 ],
 "metadata": {
  "kernelspec": {
   "display_name": "Python 3 (ipykernel)",
   "language": "python",
   "name": "python3"
  },
  "language_info": {
   "codemirror_mode": {
    "name": "ipython",
    "version": 3
   },
   "file_extension": ".py",
   "mimetype": "text/x-python",
   "name": "python",
   "nbconvert_exporter": "python",
   "pygments_lexer": "ipython3",
   "version": "3.12.4"
  }
 },
 "nbformat": 4,
 "nbformat_minor": 5
}
